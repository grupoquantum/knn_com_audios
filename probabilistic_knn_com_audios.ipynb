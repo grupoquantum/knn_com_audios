{
 "cells": [
  {
   "cell_type": "markdown",
   "metadata": {},
   "source": [
    "<h3>K-Nearest Neighbors na Classificação de ÁUDIOS/SONS</h3>"
   ]
  },
  {
   "cell_type": "markdown",
   "metadata": {},
   "source": [
    "<h4>Instanciação e Treinamento</h4>"
   ]
  },
  {
   "cell_type": "code",
   "execution_count": 20,
   "metadata": {},
   "outputs": [
    {
     "data": {
      "text/plain": [
       "True"
      ]
     },
     "execution_count": 20,
     "metadata": {},
     "output_type": "execute_result"
    }
   ],
   "source": [
    "from Neuraline.ArtificialIntelligence.MachineLearning.SupervisedLearning.probabilistic_knn import ProbabilisticKNN\n",
    "probabilistic_knn = ProbabilisticKNN()\n",
    "# treinamento com as amostras de exemplo para cada classe\n",
    "probabilistic_knn.addFit(url_path='./audios/training/homem.wav', class_name='homem')\n",
    "probabilistic_knn.addFit(url_path='./audios/training/mulher.wav', class_name='mulher')"
   ]
  },
  {
   "cell_type": "markdown",
   "metadata": {},
   "source": [
    "<h4>Teste com ÁUDIO/VOZ Masculino(a)</h4>"
   ]
  },
  {
   "cell_type": "code",
   "execution_count": 22,
   "metadata": {},
   "outputs": [
    {
     "name": "stdout",
     "output_type": "stream",
     "text": [
      "[{'homem': 0.9537303391976562}]\n",
      "Classificação para a MAIOR probabilidade: homem\n"
     ]
    }
   ],
   "source": [
    "url_inputs = './audios/test/homem.wav'\n",
    "classification = probabilistic_knn.predict(url_inputs, gaussian=True)\n",
    "# retorno original\n",
    "print(classification)\n",
    "# retorno formatado\n",
    "print(f'Classificação para a MAIOR probabilidade: {list(classification[0].keys())[0]}')"
   ]
  },
  {
   "cell_type": "markdown",
   "metadata": {},
   "source": [
    "<h4>Teste com ÁUDIO/VOZ Feminino(a)</h4>"
   ]
  },
  {
   "cell_type": "code",
   "execution_count": 23,
   "metadata": {},
   "outputs": [
    {
     "name": "stdout",
     "output_type": "stream",
     "text": [
      "[{'mulher': 0.9566301321375889}]\n",
      "Classificação para a MAIOR probabilidade: mulher\n"
     ]
    }
   ],
   "source": [
    "url_inputs = './audios/test/mulher.wav'\n",
    "classification = probabilistic_knn.predict(url_inputs, gaussian=True)\n",
    "# retorno original\n",
    "print(classification)\n",
    "# retorno formatado\n",
    "print(f'Classificação para a MAIOR probabilidade: {list(classification[0].keys())[0]}')"
   ]
  }
 ],
 "metadata": {
  "kernelspec": {
   "display_name": "Python 3.10.4 64-bit",
   "language": "python",
   "name": "python3"
  },
  "language_info": {
   "codemirror_mode": {
    "name": "ipython",
    "version": 3
   },
   "file_extension": ".py",
   "mimetype": "text/x-python",
   "name": "python",
   "nbconvert_exporter": "python",
   "pygments_lexer": "ipython3",
   "version": "3.10.4"
  },
  "orig_nbformat": 4,
  "vscode": {
   "interpreter": {
    "hash": "916dbcbb3f70747c44a77c7bcd40155683ae19c65e1c03b4aa3499c5328201f1"
   }
  }
 },
 "nbformat": 4,
 "nbformat_minor": 2
}
